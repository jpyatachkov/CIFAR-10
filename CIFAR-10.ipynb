{
 "cells": [
  {
   "cell_type": "markdown",
   "metadata": {},
   "source": [
    "# Обучение нейросети на датасете CIFAR-10"
   ]
  },
  {
   "cell_type": "code",
   "execution_count": 31,
   "metadata": {
    "collapsed": false
   },
   "outputs": [],
   "source": [
    "import lasagne\n",
    "import os\n",
    "import pickle\n",
    "import theano\n",
    "\n",
    "import matplotlib.pyplot as plt\n",
    "import numpy as np\n",
    "import theano.tensor as T\n",
    "\n",
    "from sklearn.cross_validation import train_test_split"
   ]
  },
  {
   "cell_type": "code",
   "execution_count": 32,
   "metadata": {
    "collapsed": true
   },
   "outputs": [],
   "source": [
    "%matplotlib inline"
   ]
  },
  {
   "cell_type": "markdown",
   "metadata": {},
   "source": [
    "## Подготовка данных"
   ]
  },
  {
   "cell_type": "markdown",
   "metadata": {},
   "source": [
    "### Вспомогательные процедуры"
   ]
  },
  {
   "cell_type": "code",
   "execution_count": 33,
   "metadata": {
    "collapsed": true
   },
   "outputs": [],
   "source": [
    "def deserialize_batch_from_py2(file_path):\n",
    "    if not os.path.exists(file_path):\n",
    "        raise ValueError('Невозможно открыть файл {}'.format(file_path))\n",
    "\n",
    "    with open(file_path, mode='rb') as fp:\n",
    "        u = pickle._Unpickler(fp)\n",
    "        u.encoding = 'latin1'\n",
    "        unpickled = u.load()\n",
    "\n",
    "    return unpickled"
   ]
  },
  {
   "cell_type": "markdown",
   "metadata": {},
   "source": [
    "### Чтение данных из батчей"
   ]
  },
  {
   "cell_type": "code",
   "execution_count": 54,
   "metadata": {
    "collapsed": false
   },
   "outputs": [],
   "source": [
    "data_path = os.path.join(os.getcwd(), 'batches')\n",
    "\n",
    "X_train, y_train = list(), list()\n",
    "X_test, y_test = list(), list()\n",
    "\n",
    "for item in os.listdir(data_path):\n",
    "    if os.path.splitext(item)[1]:\n",
    "        continue\n",
    "        \n",
    "    try:\n",
    "        data = deserialize_batch_from_py2(os.path.join(data_path, item))\n",
    "    except ValueError as ve:\n",
    "        print(ve)\n",
    "        exit(0)\n",
    "        \n",
    "    if item == 'test_batch':\n",
    "        X, y = X_test, y_test\n",
    "    else:\n",
    "        X, y = X_train, y_train\n",
    "    \n",
    "    X.append(data['data'])\n",
    "    y.append(data['labels'])\n",
    "    \n",
    "X_train, y_train = np.concatenate(X_train).reshape(-1, 3, 32, 32).astype(np.int32),\\\n",
    "                       np.concatenate(y_train).astype(np.int32)\n",
    "X_test, y_test = np.concatenate(X_test).reshape(-1, 3, 32, 32).astype(np.int32),\\\n",
    "                     np.concatenate(y_test).astype(np.int32)"
   ]
  },
  {
   "cell_type": "markdown",
   "metadata": {},
   "source": [
    "### Нормализация"
   ]
  },
  {
   "cell_type": "code",
   "execution_count": 55,
   "metadata": {
    "collapsed": false
   },
   "outputs": [],
   "source": [
    "mean, std = np.mean(np.concatenate((X_train, X_test), axis=0), 0),\\\n",
    "            np.std(np.concatenate((X_train, X_test), axis=0), 0).clip(min=1)\n",
    "\n",
    "X_train = (X_train - mean) / std\n",
    "X_test = (X_test - mean) / std"
   ]
  },
  {
   "cell_type": "markdown",
   "metadata": {},
   "source": [
    "### Разделение обучающей выборки на train и val"
   ]
  },
  {
   "cell_type": "code",
   "execution_count": 36,
   "metadata": {
    "collapsed": true
   },
   "outputs": [],
   "source": [
    "X_train, X_val, y_train, y_val = train_test_split(X_train, y_train, \n",
    "                                                  test_size=0.2,\n",
    "                                                  random_state=42)"
   ]
  },
  {
   "cell_type": "markdown",
   "metadata": {},
   "source": [
    "## Создание нейросети"
   ]
  },
  {
   "cell_type": "code",
   "execution_count": 37,
   "metadata": {
    "collapsed": false
   },
   "outputs": [],
   "source": [
    "N_FILTERS = 100\n",
    "\n",
    "def build_cnn(input_var=None,\n",
    "              crp_num_filters=64, crp_filter_size=3,):\n",
    "    \n",
    "    network = lasagne.layers.InputLayer(shape=(None, 3, 32, 32),\n",
    "                                        input_var=input_var)\n",
    "    \n",
    "    network = lasagne.layers.Conv2DLayer(\n",
    "            network, \n",
    "            num_filters = 4 * N_FILTERS, \n",
    "            filter_size = (3, 3),\n",
    "            nonlinearity = lasagne.nonlinearities.rectify,\n",
    "            W = lasagne.init.GlorotUniform())\n",
    "\n",
    "    network = lasagne.layers.MaxPool2DLayer(network, pool_size=(2, 2))\n",
    "\n",
    "    network = lasagne.layers.Conv2DLayer(\n",
    "            network, \n",
    "            num_filters = 2 * N_FILTERS,\n",
    "            filter_size = (3, 3),\n",
    "            nonlinearity = lasagne.nonlinearities.rectify,\n",
    "            W = lasagne.init.GlorotUniform(gain='relu'))\n",
    "\n",
    "    network = lasagne.layers.Conv2DLayer(\n",
    "            network, \n",
    "            num_filters = N_FILTERS,\n",
    "            filter_size = (3, 3),\n",
    "            nonlinearity = lasagne.nonlinearities.rectify,\n",
    "            W = lasagne.init.GlorotUniform(gain='relu'))\n",
    "    \n",
    "    network = lasagne.layers.MaxPool2DLayer(network, pool_size=(2, 2))\n",
    "    \n",
    "    network = lasagne.layers.DenseLayer(\n",
    "            lasagne.layers.dropout(network, p=.5),\n",
    "            num_units=128,\n",
    "            nonlinearity=lasagne.nonlinearities.rectify)\n",
    "\n",
    "    network = lasagne.layers.DenseLayer(\n",
    "            lasagne.layers.dropout(network, p=.5),\n",
    "            num_units=64,\n",
    "            nonlinearity=lasagne.nonlinearities.leaky_rectify)\n",
    "    \n",
    "    network = lasagne.layers.DenseLayer(\n",
    "            lasagne.layers.dropout(network, p=.5),\n",
    "            num_units=10,\n",
    "            nonlinearity=lasagne.nonlinearities.softmax)\n",
    "\n",
    "    return network\n",
    "    \n",
    "\n",
    "def compile_cnn():\n",
    "    X_sym = T.tensor4('input_var')\n",
    "    y_sym = T.ivector('target_var')\n",
    "    \n",
    "    cnn = build_cnn(X_sym)\n",
    "    \n",
    "    '''\n",
    "    Для обучения\n",
    "    '''\n",
    "    \n",
    "    y_pred = lasagne.layers.get_output(cnn)\n",
    "    params = lasagne.layers.get_all_params(cnn, trainable=True)\n",
    "    \n",
    "    loss = lasagne.objectives.aggregate(lasagne.objectives.categorical_crossentropy(y_pred, y_sym))\n",
    "    \n",
    "    cost = T.grad(loss, params)\n",
    "    \n",
    "    updates = lasagne.updates.nesterov_momentum(cost, params, learning_rate=0.001)\n",
    "    \n",
    "    '''\n",
    "    Для тестирования\n",
    "    '''\n",
    "    \n",
    "    test_pred = lasagne.layers.get_output(cnn, deterministic=True)\n",
    "    \n",
    "    test_loss = lasagne.objectives.aggregate(lasagne.objectives.categorical_crossentropy(test_pred, y_sym))\n",
    "    test_acc = T.mean(T.eq(T.argmax(test_pred, axis=1), y_sym))\n",
    "    \n",
    "    model_pred = test_pred.argmax(-1)\n",
    "    \n",
    "    '''\n",
    "    Построение функций\n",
    "    '''\n",
    "    \n",
    "    train_f = theano.function([X_sym, y_sym], loss, updates=updates, allow_input_downcast=True)\n",
    "    \n",
    "    val_f = theano.function([X_sym, y_sym], [test_loss, test_acc], allow_input_downcast=True)\n",
    "    \n",
    "    pred_f = theano.function([X_sym], model_pred, allow_input_downcast=True)\n",
    "    \n",
    "    return cnn, train_f, val_f, pred_f"
   ]
  },
  {
   "cell_type": "markdown",
   "metadata": {},
   "source": [
    "## Обучение нейросети"
   ]
  },
  {
   "cell_type": "markdown",
   "metadata": {},
   "source": [
    "### Вспомогательные функции"
   ]
  },
  {
   "cell_type": "code",
   "execution_count": 38,
   "metadata": {
    "collapsed": true
   },
   "outputs": [],
   "source": [
    "def iterate_minibatches(X, y, batch_size, shuffle=True):\n",
    "    if len(X) != len(y):\n",
    "        raise ValueError('Количество объектов X должно быть равно количеству меток класса у')\n",
    "        \n",
    "    if shuffle:\n",
    "        indices = np.arange(len(X))\n",
    "        np.random.shuffle(indices)\n",
    "        \n",
    "    for start_idx in range(0, len(X) - batch_size - 1, batch_size):\n",
    "        if shuffle:\n",
    "            chunk = indices[start_idx:(start_idx + batch_size)]\n",
    "        else:\n",
    "            chunk = slice(start_idx, start_idx + batch_size)\n",
    "            \n",
    "        yield X[chunk], y[chunk]"
   ]
  },
  {
   "cell_type": "markdown",
   "metadata": {},
   "source": [
    "### Вспомогательные константы"
   ]
  },
  {
   "cell_type": "code",
   "execution_count": 39,
   "metadata": {
    "collapsed": true
   },
   "outputs": [],
   "source": [
    "BATCH_SIZE = 32\n",
    "\n",
    "n_eras = 20"
   ]
  },
  {
   "cell_type": "markdown",
   "metadata": {},
   "source": [
    "### Обучение"
   ]
  },
  {
   "cell_type": "code",
   "execution_count": 40,
   "metadata": {
    "collapsed": false
   },
   "outputs": [
    {
     "name": "stderr",
     "output_type": "stream",
     "text": [
      "C:\\Program Files (x86)\\WinPython-64bit-3.4.4.1\\python-3.4.4.amd64\\lib\\site-packages\\lasagne\\layers\\pool.py:266: UserWarning: DEPRECATION: the 'ds' parameter is not going to exist anymore as it is going to be replaced by the parameter 'ws'.\n",
      "  mode=self.mode,\n",
      "C:\\Program Files (x86)\\WinPython-64bit-3.4.4.1\\python-3.4.4.amd64\\lib\\site-packages\\lasagne\\layers\\pool.py:266: UserWarning: DEPRECATION: the 'st' parameter is not going to exist anymore as it is going to be replaced by the parameter 'stride'.\n",
      "  mode=self.mode,\n",
      "C:\\Program Files (x86)\\WinPython-64bit-3.4.4.1\\python-3.4.4.amd64\\lib\\site-packages\\lasagne\\layers\\pool.py:266: UserWarning: DEPRECATION: the 'padding' parameter is not going to exist anymore as it is going to be replaced by the parameter 'pad'.\n",
      "  mode=self.mode,\n"
     ]
    }
   ],
   "source": [
    "cnn, train_f, val_f, pred_f = compile_cnn()"
   ]
  },
  {
   "cell_type": "code",
   "execution_count": 41,
   "metadata": {
    "collapsed": false
   },
   "outputs": [
    {
     "name": "stdout",
     "output_type": "stream",
     "text": [
      "Era 1, train_err = 2.1682580840215384, val_err = 1.8399014564660878, acc = 0.3613782051282051\n",
      "Era 2, train_err = 1.8661858418925081, val_err = 1.627151934382243, acc = 0.4143629807692308\n",
      "Era 3, train_err = 1.7013711947455608, val_err = 1.5145884587978706, acc = 0.44711538461538464\n",
      "Era 4, train_err = 1.5935050864234936, val_err = 1.385707092972902, acc = 0.5013020833333334\n",
      "Era 5, train_err = 1.518570832866397, val_err = 1.3226580096360965, acc = 0.5154246794871795\n",
      "Era 6, train_err = 1.451696951690915, val_err = 1.2944467147955527, acc = 0.5261418269230769\n",
      "Era 7, train_err = 1.4000557786565098, val_err = 1.202103360532186, acc = 0.5679086538461539\n",
      "Era 8, train_err = 1.3487547636509323, val_err = 1.1702291931097324, acc = 0.5814302884615384\n",
      "Era 9, train_err = 1.3020121933843156, val_err = 1.1483747387925785, acc = 0.5899439102564102\n",
      "Era 10, train_err = 1.2621970339905653, val_err = 1.1024807114631703, acc = 0.6097756410256411\n",
      "Era 11, train_err = 1.2270704805135155, val_err = 1.0644000581441782, acc = 0.6156850961538461\n",
      "Era 12, train_err = 1.1825347851046186, val_err = 1.0144721260055518, acc = 0.6388221153846154\n",
      "Era 13, train_err = 1.1472394803793933, val_err = 0.9745251406461765, acc = 0.6566506410256411\n",
      "Era 14, train_err = 1.1210373434856284, val_err = 0.9497499670355748, acc = 0.6612580128205128\n",
      "Era 15, train_err = 1.0844462840818614, val_err = 0.9200385423042835, acc = 0.67578125\n",
      "Era 16, train_err = 1.0609136880446282, val_err = 0.9243822569648424, acc = 0.680488782051282\n",
      "Era 17, train_err = 1.0374527592674267, val_err = 0.8826282105575769, acc = 0.690604967948718\n",
      "Era 18, train_err = 1.0059794334051988, val_err = 0.8526342794872247, acc = 0.6996193910256411\n",
      "Era 19, train_err = 0.9891552927973177, val_err = 0.8537366546881504, acc = 0.7088341346153846\n",
      "Era 20, train_err = 0.9634986941436465, val_err = 0.873571981699803, acc = 0.6937099358974359\n"
     ]
    }
   ],
   "source": [
    "era_params, errors, accuracies = list(), list(), list()\n",
    "\n",
    "for era in range(n_eras):\n",
    "    ''' Train '''\n",
    "    \n",
    "    train_err, n_trained_batches = (0, ) * 2\n",
    "    \n",
    "    for X, y in iterate_minibatches(X_train, y_train, BATCH_SIZE):\n",
    "        train_err += train_f(X, y)\n",
    "        \n",
    "        n_trained_batches += 1\n",
    "        \n",
    "    ''' Val '''\n",
    "    val_err, val_acc, n_val_batches = (0, ) * 3\n",
    "    \n",
    "    for X, y in iterate_minibatches(X_val, y_val, BATCH_SIZE, shuffle=False):\n",
    "        err, acc = val_f(X, y)\n",
    "        \n",
    "        val_err += err\n",
    "        val_acc += acc\n",
    "        \n",
    "        n_val_batches += 1\n",
    "        \n",
    "    ''' Output '''\n",
    "        \n",
    "    train_err /= n_trained_batches\n",
    "    \n",
    "    val_err /= n_val_batches\n",
    "    val_acc /= n_val_batches\n",
    "    \n",
    "    errors.append(val_err)\n",
    "    accuracies.append(val_acc)\n",
    "    \n",
    "    era_params.append(lasagne.layers.get_all_param_values(cnn))\n",
    "    \n",
    "    print('Era {}, train_err = {}, val_err = {}, acc = {}'.format(era + 1,\n",
    "                                                                  train_err,\n",
    "                                                                  val_err,\n",
    "                                                                  val_acc))"
   ]
  },
  {
   "cell_type": "markdown",
   "metadata": {},
   "source": [
    "### Выбор и сохранение модели с наилучшими параметрами"
   ]
  },
  {
   "cell_type": "code",
   "execution_count": 42,
   "metadata": {
    "collapsed": false
   },
   "outputs": [],
   "source": [
    "max_acc_idx = np.argmax(accuracies)\n",
    "\n",
    "if max_acc_idx is not None:\n",
    "    best_model_params = era_params[max_acc_idx]\n",
    "    \n",
    "    with open('model.dat', mode='wb') as f:\n",
    "        pickle.dump(best_model_params, f)"
   ]
  },
  {
   "cell_type": "markdown",
   "metadata": {},
   "source": [
    "### Визуализация ошибки при обучении"
   ]
  },
  {
   "cell_type": "code",
   "execution_count": 43,
   "metadata": {
    "collapsed": true
   },
   "outputs": [],
   "source": [
    "import seaborn as sns"
   ]
  },
  {
   "cell_type": "code",
   "execution_count": 64,
   "metadata": {
    "collapsed": false
   },
   "outputs": [
    {
     "data": {
      "image/png": "[encoded data removed]",
      "text/plain": [
       "<matplotlib.figure.Figure at 0x23a278>"
      ]
     },
     "metadata": {},
     "output_type": "display_data"
    }
   ],
   "source": [
    "eras = [x + 1 for x in range(n_eras)]\n",
    "\n",
    "figure = plt.figure(1)\n",
    "\n",
    "ax = figure.add_subplot(111)\n",
    "\n",
    "ax.plot(eras, accuracies, label='Epoch accuracies', color='red')\n",
    "\n",
    "handlers, labels = ax.get_legend_handles_labels()\n",
    "\n",
    "ax.legend(handlers, labels, bbox_to_anchor=(1.05, 1), loc=2, borderaxespad=0.)\n",
    "\n",
    "ax.grid('on')\n",
    "\n",
    "plt.show()"
   ]
  },
  {
   "cell_type": "markdown",
   "metadata": {},
   "source": [
    "## Оценка точности работы модели"
   ]
  },
  {
   "cell_type": "code",
   "execution_count": 61,
   "metadata": {
    "collapsed": false
   },
   "outputs": [
    {
     "name": "stderr",
     "output_type": "stream",
     "text": [
      "C:\\Program Files (x86)\\WinPython-64bit-3.4.4.1\\python-3.4.4.amd64\\lib\\site-packages\\lasagne\\layers\\pool.py:266: UserWarning: DEPRECATION: the 'ds' parameter is not going to exist anymore as it is going to be replaced by the parameter 'ws'.\n",
      "  mode=self.mode,\n",
      "C:\\Program Files (x86)\\WinPython-64bit-3.4.4.1\\python-3.4.4.amd64\\lib\\site-packages\\lasagne\\layers\\pool.py:266: UserWarning: DEPRECATION: the 'st' parameter is not going to exist anymore as it is going to be replaced by the parameter 'stride'.\n",
      "  mode=self.mode,\n",
      "C:\\Program Files (x86)\\WinPython-64bit-3.4.4.1\\python-3.4.4.amd64\\lib\\site-packages\\lasagne\\layers\\pool.py:266: UserWarning: DEPRECATION: the 'padding' parameter is not going to exist anymore as it is going to be replaced by the parameter 'pad'.\n",
      "  mode=self.mode,\n"
     ]
    }
   ],
   "source": [
    "with open('model.dat', mode='rb') as f:\n",
    "    params = pickle.load(f)\n",
    "    \n",
    "cnn, *other = compile_cnn()\n",
    "    \n",
    "lasagne.layers.set_all_param_values(cnn, params)\n",
    "\n",
    "y_pred = list()\n",
    "\n",
    "for X in X_test:\n",
    "    y_pred.append(pred_f([X])[0])"
   ]
  },
  {
   "cell_type": "code",
   "execution_count": 63,
   "metadata": {
    "collapsed": false
   },
   "outputs": [
    {
     "data": {
      "image/png": "[encoded data removed]",
      "text/plain": [
       "<matplotlib.figure.Figure at 0x967143c8>"
      ]
     },
     "metadata": {},
     "output_type": "display_data"
    }
   ],
   "source": [
    "from sklearn.metrics import confusion_matrix\n",
    "\n",
    "cm = confusion_matrix(y_test, y_pred)\n",
    "\n",
    "fig = plt.figure(figsize=(20, 20))\n",
    "sns.heatmap(cm, annot=True, fmt='d', linewidth=0.5)\n",
    "plt.show()"
   ]
  }
 ],
 "metadata": {
  "kernelspec": {
   "display_name": "Python 3",
   "language": "python",
   "name": "python3"
  },
  "language_info": {
   "codemirror_mode": {
    "name": "ipython",
    "version": 3
   },
   "file_extension": ".py",
   "mimetype": "text/x-python",
   "name": "python",
   "nbconvert_exporter": "python",
   "pygments_lexer": "ipython3",
   "version": "3.4.4"
  }
 },
 "nbformat": 4,
 "nbformat_minor": 0
}
